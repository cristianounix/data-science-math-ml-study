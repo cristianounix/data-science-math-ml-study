{
 "cells": [
  {
   "cell_type": "code",
   "execution_count": 2,
   "metadata": {},
   "outputs": [],
   "source": [
    "import pandas as pd\n",
    "import numpy as np\n",
    "from numpy import exp, array, random, dot, sum"
   ]
  },
  {
   "cell_type": "markdown",
   "metadata": {},
   "source": [
    "# PERCEPTRON"
   ]
  },
  {
   "cell_type": "markdown",
   "metadata": {},
   "source": [
    "Dados do problema"
   ]
  },
  {
   "cell_type": "markdown",
   "metadata": {},
   "source": [
    "| F1 | F2 | Type |\n",
    "|-|-|-|\n",
    "| 1 | 5 | 1 (Group 1)\n",
    "| 2 | 6 | 1 (Group 1)\n",
    "| 3 | 4 | 1 (Group 1)\n",
    "| 4 | 0 | 2 (Group 2)\n"
   ]
  },
  {
   "cell_type": "code",
   "execution_count": 3,
   "metadata": {},
   "outputs": [
    {
     "data": {
      "image/png": "[encoded data removed]",
      "text/plain": [
       "<Figure size 432x288 with 1 Axes>"
      ]
     },
     "metadata": {
      "needs_background": "light"
     },
     "output_type": "display_data"
    }
   ],
   "source": [
    "data = {\n",
    "    'F1': [1, 2, 3, 4], \n",
    "    'F2': [5, 6, 4, 0]\n",
    "}\n",
    "df = pd.DataFrame(data)\n",
    "\n",
    "ax = df.loc[df['F1'] < 4].plot.scatter(x='F1', y='F2', c='c', label='Group 1')\n",
    "df.loc[df['F1'] >= 4].plot.scatter(x='F1', y='F2', c='b', label='Group 2', ax=ax);"
   ]
  },
  {
   "cell_type": "code",
   "execution_count": 4,
   "metadata": {},
   "outputs": [
    {
     "data": {
      "text/html": [
       "<div>\n",
       "<style scoped>\n",
       "    .dataframe tbody tr th:only-of-type {\n",
       "        vertical-align: middle;\n",
       "    }\n",
       "\n",
       "    .dataframe tbody tr th {\n",
       "        vertical-align: top;\n",
       "    }\n",
       "\n",
       "    .dataframe thead th {\n",
       "        text-align: right;\n",
       "    }\n",
       "</style>\n",
       "<table border=\"1\" class=\"dataframe\">\n",
       "  <thead>\n",
       "    <tr style=\"text-align: right;\">\n",
       "      <th></th>\n",
       "      <th>F1</th>\n",
       "      <th>F2</th>\n",
       "    </tr>\n",
       "  </thead>\n",
       "  <tbody>\n",
       "    <tr>\n",
       "      <th>0</th>\n",
       "      <td>1</td>\n",
       "      <td>5</td>\n",
       "    </tr>\n",
       "    <tr>\n",
       "      <th>1</th>\n",
       "      <td>2</td>\n",
       "      <td>6</td>\n",
       "    </tr>\n",
       "    <tr>\n",
       "      <th>2</th>\n",
       "      <td>3</td>\n",
       "      <td>4</td>\n",
       "    </tr>\n",
       "    <tr>\n",
       "      <th>3</th>\n",
       "      <td>4</td>\n",
       "      <td>0</td>\n",
       "    </tr>\n",
       "  </tbody>\n",
       "</table>\n",
       "</div>"
      ],
      "text/plain": [
       "   F1  F2\n",
       "0   1   5\n",
       "1   2   6\n",
       "2   3   4\n",
       "3   4   0"
      ]
     },
     "execution_count": 4,
     "metadata": {},
     "output_type": "execute_result"
    }
   ],
   "source": [
    "input = df[['F1', 'F2']]\n",
    "input"
   ]
  },
  {
   "cell_type": "code",
   "execution_count": 16,
   "metadata": {},
   "outputs": [],
   "source": [
    "class Neuron():\n",
    "\n",
    "    def __init__(self):\n",
    "        self.LIMIT_EPOCHS = 10\n",
    "        # Taxa de aprendizado\n",
    "        self.LEARNING_RATE = 0.05 \n",
    "        \n",
    "        self.errors = []\n",
    "        self.weights = []\n",
    "        self.dataset_inputs = []\n",
    "        self.dataset_outputs = []\n",
    "    \n",
    "        \n",
    "    def train(self):\n",
    "        len_amostras = len(self.dataset_inputs)\n",
    "        print('N. AMOSTRAS:  ', len_amostras)\n",
    "\n",
    "        \n",
    "        for epoch in range(0, self.LIMIT_EPOCHS):\n",
    "            \n",
    "            error = False\n",
    "            self.synaptic_weights = self.newRandomWeights()\n",
    "            \n",
    "            for iteration in range(0, len_amostras):\n",
    "                \n",
    "                inputNet = self.dataset_inputs[iteration]\n",
    "                output = self.think(inputNet)\n",
    "                error = self.dataset_outputs[iteration] - output\n",
    "                sum_errors = np.sum(np.array(error))\n",
    "                \n",
    "                self.errors.append([epoch, sum_errors])\n",
    "                # adjustment = dot(training_set_inputs.T, error * self.__sigmoid_derivative(output))\n",
    "    \n",
    "                # updating erros\n",
    "# \t\t\t\tif y != self.saidas[i]:\n",
    "# \t\t\t\t\t# calcula o erro\n",
    "# \t\t\t\t\terro_aux = self.saidas[i] - y\n",
    "# \t\t\t\t\t# faz o ajuste dos pesos para cada elemento da amostra\n",
    "# \t\t\t\t\tfor j in range(self.n_atributos + 1):\n",
    "# \t\t\t\t\t\tself.pesos[j] = self.pesos[j] + self.taxa_aprendizado * erro_aux * self.amostras[i][j]\n",
    "# \t\t\t\t\terro = True # o erro ainda existe\n",
    "                if sum_errors > 0:\n",
    "                    self.synaptic_weights = self.recalc_weights(inputNet, output, error)\n",
    "\n",
    "\n",
    "                # critério de parada\n",
    "                # if not erro or epoch > self.LIMIT_EPOCHS:\n",
    "                if sum_errors == 0 or epoch > self.LIMIT_EPOCHS:\n",
    "                    break\n",
    "             \n",
    "\n",
    "        \n",
    "    def newRandomWeights(self):\n",
    "        # random.seed(123456789000)\n",
    "        w = 2 * random.random((3, 1)) - 1\n",
    "        return w\n",
    "    \n",
    "    def recalc_weights(self, inputs, output, error):\n",
    "        # newWeight = self.synaptic_weights + (self.dataset_inputs.T * error * self.LEARNING_RATE)\n",
    "        dot_error = dot(inputs, error)\n",
    "        new_synaptic_weights = self.synaptic_weights + (dot_error * self.LEARNING_RATE)\n",
    "        return new_synaptic_weights\n",
    "        # self.synaptic_weights = dot(self.dataset_inputs.T, (inputs - output) * output * self.LEARNING_RATE)\n",
    "        # self.synaptic_weights = output - self.LEARNING_RATE\n",
    "        # self.synaptic_weights += dot(training_set_inputs.T, (training_set_outputs - output) * output * (1 - output))\n",
    "        # self.synaptic_weights += dot(training_set_inputs, (training_set_outputs - output) * output * (1 - output))\n",
    "    \n",
    "    def think(self, input):\n",
    "        a = [input]\n",
    "        multiplication = dot(a, self.synaptic_weights)[-1][-1]        \n",
    "        fn_activation_value = self.__sigmoid(multiplication)\n",
    "        return fn_activation_value\n",
    "        \n",
    "    # The Sigmoid function, which describes an S shaped curve.\n",
    "    # We pass the weighted sum of the inputs through this function to\n",
    "    # normalise them between 0 and 1.\n",
    "    def __sigmoid(self, x):\n",
    "        return 1 / (1 + exp(-x))\n",
    "\n",
    "    # The derivative of the Sigmoid function.\n",
    "    # This is the gradient of the Sigmoid curve.\n",
    "    # It indicates how confident we are about the existing weight.\n",
    "    def __sigmoid_derivative(self, x):\n",
    "        return x * (1 - x)\n",
    "     \n",
    "    \n",
    "    def show_erros(self):\n",
    "        dfErros = pd.DataFrame(self.errors, columns=('Epoch', 'Erros'))\n",
    "        print(dfErros)\n",
    "#         df.columns = ['x', 'y']\n",
    "#         dfErros.plot.scatter(x=0, y=1, c='c', label='Group 1')\n",
    "        dfErros.plot()\n",
    "#         print(self.errors[['b']])\n",
    "#         print(dfErros)\n",
    "#         dfErros\n"
   ]
  },
  {
   "cell_type": "code",
   "execution_count": 17,
   "metadata": {},
   "outputs": [],
   "source": [
    "neuron = Neuron()\n",
    "# 1, 2, 3, 4\n",
    "# 5, 6, 4, 0\n",
    "input = array([\n",
    "                [0, 0, 0], \n",
    "                [1, 0, 0], \n",
    "                [1, 1, 0], \n",
    "                [1, 1, 1]\n",
    "            ])\n",
    "output = array([0, 0, 0, 1])\n",
    "\n",
    "# dados = pd.DataFrame()\n",
    "# dados['x'] = np.linspace(-10,10,10)\n",
    "# dados['y'] = 5 + 3*dados['x'] + np.random.normal(0,3,10)\n",
    "# dados.plot(x='x', y='y', kind='scatter')"
   ]
  },
  {
   "cell_type": "code",
   "execution_count": 9,
   "metadata": {},
   "outputs": [
    {
     "data": {
      "text/plain": [
       "array([0, 0, 0, 1])"
      ]
     },
     "execution_count": 9,
     "metadata": {},
     "output_type": "execute_result"
    }
   ],
   "source": [
    "output"
   ]
  },
  {
   "cell_type": "code",
   "execution_count": 18,
   "metadata": {},
   "outputs": [
    {
     "name": "stdout",
     "output_type": "stream",
     "text": [
      "N. AMOSTRAS:   4\n"
     ]
    }
   ],
   "source": [
    "neuron.dataset_inputs = input\n",
    "neuron.dataset_outputs = output.T\n",
    "neuron.train()"
   ]
  },
  {
   "cell_type": "code",
   "execution_count": 19,
   "metadata": {},
   "outputs": [
    {
     "name": "stdout",
     "output_type": "stream",
     "text": [
      "    Epoch     Erros\n",
      "0       0 -0.500000\n",
      "1       0 -0.486949\n",
      "2       0 -0.462765\n",
      "3       0  0.590518\n",
      "4       1 -0.500000\n",
      "5       1 -0.508679\n",
      "6       1 -0.586314\n",
      "7       1  0.394863\n",
      "8       2 -0.500000\n",
      "9       2 -0.338031\n",
      "10      2 -0.311206\n",
      "11      2  0.668325\n",
      "12      3 -0.500000\n",
      "13      3 -0.320502\n",
      "14      3 -0.249265\n",
      "15      3  0.631688\n",
      "16      4 -0.500000\n",
      "17      4 -0.681789\n",
      "18      4 -0.554421\n",
      "19      4  0.322600\n",
      "20      5 -0.500000\n",
      "21      5 -0.586567\n",
      "22      5 -0.555787\n",
      "23      5  0.416365\n",
      "24      6 -0.500000\n",
      "25      6 -0.379042\n",
      "26      6 -0.546754\n",
      "27      6  0.249302\n",
      "28      7 -0.500000\n",
      "29      7 -0.342782\n",
      "30      7 -0.581785\n",
      "31      7  0.452899\n",
      "32      8 -0.500000\n",
      "33      8 -0.627012\n",
      "34      8 -0.513433\n",
      "35      8  0.263451\n",
      "36      9 -0.500000\n",
      "37      9 -0.405331\n",
      "38      9 -0.636227\n",
      "39      9  0.596947\n"
     ]
    },
    {
     "data": {
      "image/png": "[encoded data removed]",
      "text/plain": [
       "<Figure size 432x288 with 1 Axes>"
      ]
     },
     "metadata": {
      "needs_background": "light"
     },
     "output_type": "display_data"
    }
   ],
   "source": [
    "neuron.show_erros()"
   ]
  }
 ],
 "metadata": {
  "kernelspec": {
   "display_name": "Python 3",
   "language": "python",
   "name": "python3"
  },
  "language_info": {
   "codemirror_mode": {
    "name": "ipython",
    "version": 3
   },
   "file_extension": ".py",
   "mimetype": "text/x-python",
   "name": "python",
   "nbconvert_exporter": "python",
   "pygments_lexer": "ipython3",
   "version": "3.7.6"
  }
 },
 "nbformat": 4,
 "nbformat_minor": 4
}
