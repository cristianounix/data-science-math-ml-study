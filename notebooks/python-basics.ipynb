{
 "cells": [
  {
   "cell_type": "markdown",
   "id": "d538a77f-922a-45bb-81fe-8ce7653da560",
   "metadata": {},
   "source": [
    "## python basics"
   ]
  },
  {
   "cell_type": "code",
   "execution_count": 20,
   "id": "168f117e-bc0e-4535-b748-580cb0294165",
   "metadata": {},
   "outputs": [
    {
     "name": "stdout",
     "output_type": "stream",
     "text": [
      "2\n",
      "(3, 5, 7)\n",
      "13\n"
     ]
    }
   ],
   "source": [
    "# Create a tuple of prime numbers \n",
    "primes = (2, 3, 5, 7, 11, 13)\n",
    "# Access elements using indexing\n",
    "print(primes[0])\n",
    "# Access elements using an indexing range\n",
    "print(primes[1:4])\n",
    "# Access elements using reverse index\n",
    "print(primes[-1])"
   ]
  },
  {
   "cell_type": "code",
   "execution_count": 24,
   "id": "93582901-a64e-4887-a97c-fb4834a653d9",
   "metadata": {},
   "outputs": [
    {
     "name": "stdout",
     "output_type": "stream",
     "text": [
      "2||3||5||7||11||13\n"
     ]
    },
    {
     "data": {
      "text/plain": [
       "list"
      ]
     },
     "execution_count": 24,
     "metadata": {},
     "output_type": "execute_result"
    }
   ],
   "source": [
    "# Create a tuple of prime numbers\n",
    "primes = (2, 3, 5, 7, 11, 13)\n",
    "# Unpack the tuple, individually\n",
    "a, b, c, d, e, f = primes\n",
    "print(a, b, c, d, e, f, sep='||')\n",
    "#2||3||5||7||11||13\n",
    "\n",
    "# Check the type of p1\n",
    "type(p1)"
   ]
  },
  {
   "cell_type": "code",
   "execution_count": 23,
   "id": "e5abde34-3046-40e4-89d0-76e7a8c5921e",
   "metadata": {},
   "outputs": [
    {
     "name": "stdout",
     "output_type": "stream",
     "text": [
      "2||[3, 5, 7, 11]||13\n"
     ]
    },
    {
     "data": {
      "text/plain": [
       "list"
      ]
     },
     "execution_count": 23,
     "metadata": {},
     "output_type": "execute_result"
    }
   ],
   "source": [
    "# Unpack the tuple, using the asterisk\n",
    "p0, *p1, p2 = primes\n",
    "print(p0, p1, p2, sep='||')\n",
    "# 2||[3, 5, 7, 11]||13\n",
    "\n",
    "# Check the type of p1\n",
    "type(p1)"
   ]
  },
  {
   "cell_type": "code",
   "execution_count": 25,
   "id": "d864d49d-aa3a-46ec-8a4a-760e64e54db2",
   "metadata": {},
   "outputs": [
    {
     "data": {
      "text/plain": [
       "{'a': 1, 'b': 20, 'c': 3, 'd': 4}"
      ]
     },
     "execution_count": 25,
     "metadata": {},
     "output_type": "execute_result"
    }
   ],
   "source": [
    "# Create two dictionaries \n",
    "d1  = {'a': 1, 'b': 2}\n",
    "d2  = {'c': 3, 'd': 4}\n",
    "d2a = {'b': 20, 'c': 3, 'd':4}\n",
    "\n",
    "# Merge two dictionaries\n",
    "d_merged0 = {**d1, **d2}\n",
    "d_merged0\n",
    "{'a': 1, 'b': 2, 'c': 3, 'd': 4}\n",
    "\n",
    "# Merge two dictionaries having an overlapping key\n",
    "d_merged1 = {\n",
    "    **d1, \n",
    "    **d2a\n",
    "}\n",
    "d_merged1\n",
    "{'a': 1, 'b': 20, 'c': 3, 'd': 4}"
   ]
  }
 ],
 "metadata": {
  "kernelspec": {
   "display_name": "Python 3 (ipykernel)",
   "language": "python",
   "name": "python3"
  },
  "language_info": {
   "codemirror_mode": {
    "name": "ipython",
    "version": 3
   },
   "file_extension": ".py",
   "mimetype": "text/x-python",
   "name": "python",
   "nbconvert_exporter": "python",
   "pygments_lexer": "ipython3",
   "version": "3.11.3"
  }
 },
 "nbformat": 4,
 "nbformat_minor": 5
}
